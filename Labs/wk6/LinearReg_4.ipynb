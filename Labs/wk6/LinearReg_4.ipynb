{
 "cells": [
  {
   "cell_type": "markdown",
   "id": "c3f646ce",
   "metadata": {},
   "source": [
    "\n",
    "## Lab: Linear regression, tuning models\n",
    "\n",
    "In this lab we will continue to perform linear regression using the CPU data set.\n",
    "Before starting the lab, you may want to download 'An Introduction to Statistical Learning' by \n",
    "James et al, which is made available by the authors for free as a PDF.  It uses R, not Python, \n",
    "but is a great resource for data science:\n",
    "https://www.statlearning.com/ and https://hastie.su.domains/ISLR2/ISLRv2_website.pdf\n",
    "Now let's start the lab.  Create a new Python file and write code for the following steps.\n"
   ]
  },
  {
   "cell_type": "markdown",
   "id": "1493e750",
   "metadata": {},
   "source": [
    "1. Read the CPU data:"
   ]
  },
  {
   "cell_type": "code",
   "execution_count": 2,
   "id": "33956a1c",
   "metadata": {},
   "outputs": [],
   "source": [
    "import pandas as pd\n",
    "import numpy as np\n",
    "from sklearn.linear_model import LinearRegression\n",
    "from sklearn.model_selection import train_test_split\n",
    "import seaborn as sns\n",
    "import matplotlib.pyplot as plt"
   ]
  },
  {
   "cell_type": "code",
   "execution_count": 3,
   "id": "606d7afb",
   "metadata": {},
   "outputs": [],
   "source": [
    "df = pd.read_csv(\"https://raw.githubusercontent.com/grbruns/cst383/master/machine.csv\")\n",
    "df.index = df['vendor']+' '+df['model']\n",
    "df.drop(['vendor', 'model'], axis=1, inplace=True)\n",
    "df['cs'] = np.round(1e3/df['myct'], 2) # clock speed in MHz "
   ]
  },
  {
   "cell_type": "markdown",
   "id": "88cdbcc7",
   "metadata": {},
   "source": [
    "2. Split the data randomly into a training set and a test set, using a 70/30 split (70% training \n",
    "data).  Use train_test_split.  \n"
   ]
  },
  {
   "cell_type": "code",
   "execution_count": 9,
   "id": "3d7528dd",
   "metadata": {},
   "outputs": [],
   "source": [
    "X = df[['erp', 'cs', 'cach', 'myct']]\n",
    "y = df['prp'].values\n",
    "X_train, X_test, y_train, y_test = train_test_split(X,y, test_size=0.30, random_state=42)\n"
   ]
  },
  {
   "cell_type": "code",
   "execution_count": 4,
   "id": "27bce0f9",
   "metadata": {},
   "outputs": [
    {
     "data": {
      "text/html": [
       "<div>\n",
       "<style scoped>\n",
       "    .dataframe tbody tr th:only-of-type {\n",
       "        vertical-align: middle;\n",
       "    }\n",
       "\n",
       "    .dataframe tbody tr th {\n",
       "        vertical-align: top;\n",
       "    }\n",
       "\n",
       "    .dataframe thead th {\n",
       "        text-align: right;\n",
       "    }\n",
       "</style>\n",
       "<table border=\"1\" class=\"dataframe\">\n",
       "  <thead>\n",
       "    <tr style=\"text-align: right;\">\n",
       "      <th></th>\n",
       "      <th>myct</th>\n",
       "      <th>mmin</th>\n",
       "      <th>mmax</th>\n",
       "      <th>cach</th>\n",
       "      <th>chmin</th>\n",
       "      <th>chmax</th>\n",
       "      <th>prp</th>\n",
       "      <th>erp</th>\n",
       "      <th>cs</th>\n",
       "    </tr>\n",
       "  </thead>\n",
       "  <tbody>\n",
       "    <tr>\n",
       "      <th>adviser 32/60</th>\n",
       "      <td>125</td>\n",
       "      <td>256</td>\n",
       "      <td>6000</td>\n",
       "      <td>256</td>\n",
       "      <td>16</td>\n",
       "      <td>128</td>\n",
       "      <td>198</td>\n",
       "      <td>199</td>\n",
       "      <td>8.00</td>\n",
       "    </tr>\n",
       "    <tr>\n",
       "      <th>amdahl 470v/7</th>\n",
       "      <td>29</td>\n",
       "      <td>8000</td>\n",
       "      <td>32000</td>\n",
       "      <td>32</td>\n",
       "      <td>8</td>\n",
       "      <td>32</td>\n",
       "      <td>269</td>\n",
       "      <td>253</td>\n",
       "      <td>34.48</td>\n",
       "    </tr>\n",
       "    <tr>\n",
       "      <th>amdahl 470v/7a</th>\n",
       "      <td>29</td>\n",
       "      <td>8000</td>\n",
       "      <td>32000</td>\n",
       "      <td>32</td>\n",
       "      <td>8</td>\n",
       "      <td>32</td>\n",
       "      <td>220</td>\n",
       "      <td>253</td>\n",
       "      <td>34.48</td>\n",
       "    </tr>\n",
       "    <tr>\n",
       "      <th>amdahl 470v/7b</th>\n",
       "      <td>29</td>\n",
       "      <td>8000</td>\n",
       "      <td>32000</td>\n",
       "      <td>32</td>\n",
       "      <td>8</td>\n",
       "      <td>32</td>\n",
       "      <td>172</td>\n",
       "      <td>253</td>\n",
       "      <td>34.48</td>\n",
       "    </tr>\n",
       "    <tr>\n",
       "      <th>amdahl 470v/7c</th>\n",
       "      <td>29</td>\n",
       "      <td>8000</td>\n",
       "      <td>16000</td>\n",
       "      <td>32</td>\n",
       "      <td>8</td>\n",
       "      <td>16</td>\n",
       "      <td>132</td>\n",
       "      <td>132</td>\n",
       "      <td>34.48</td>\n",
       "    </tr>\n",
       "    <tr>\n",
       "      <th>...</th>\n",
       "      <td>...</td>\n",
       "      <td>...</td>\n",
       "      <td>...</td>\n",
       "      <td>...</td>\n",
       "      <td>...</td>\n",
       "      <td>...</td>\n",
       "      <td>...</td>\n",
       "      <td>...</td>\n",
       "      <td>...</td>\n",
       "    </tr>\n",
       "    <tr>\n",
       "      <th>sperry 80/8</th>\n",
       "      <td>124</td>\n",
       "      <td>1000</td>\n",
       "      <td>8000</td>\n",
       "      <td>0</td>\n",
       "      <td>1</td>\n",
       "      <td>8</td>\n",
       "      <td>42</td>\n",
       "      <td>37</td>\n",
       "      <td>8.06</td>\n",
       "    </tr>\n",
       "    <tr>\n",
       "      <th>sperry 90/80-model-3</th>\n",
       "      <td>98</td>\n",
       "      <td>1000</td>\n",
       "      <td>8000</td>\n",
       "      <td>32</td>\n",
       "      <td>2</td>\n",
       "      <td>8</td>\n",
       "      <td>46</td>\n",
       "      <td>50</td>\n",
       "      <td>10.20</td>\n",
       "    </tr>\n",
       "    <tr>\n",
       "      <th>sratus 32</th>\n",
       "      <td>125</td>\n",
       "      <td>2000</td>\n",
       "      <td>8000</td>\n",
       "      <td>0</td>\n",
       "      <td>2</td>\n",
       "      <td>14</td>\n",
       "      <td>52</td>\n",
       "      <td>41</td>\n",
       "      <td>8.00</td>\n",
       "    </tr>\n",
       "    <tr>\n",
       "      <th>wang vs-100</th>\n",
       "      <td>480</td>\n",
       "      <td>512</td>\n",
       "      <td>8000</td>\n",
       "      <td>32</td>\n",
       "      <td>0</td>\n",
       "      <td>0</td>\n",
       "      <td>67</td>\n",
       "      <td>47</td>\n",
       "      <td>2.08</td>\n",
       "    </tr>\n",
       "    <tr>\n",
       "      <th>wang vs-90</th>\n",
       "      <td>480</td>\n",
       "      <td>1000</td>\n",
       "      <td>4000</td>\n",
       "      <td>0</td>\n",
       "      <td>0</td>\n",
       "      <td>0</td>\n",
       "      <td>45</td>\n",
       "      <td>25</td>\n",
       "      <td>2.08</td>\n",
       "    </tr>\n",
       "  </tbody>\n",
       "</table>\n",
       "<p>209 rows × 9 columns</p>\n",
       "</div>"
      ],
      "text/plain": [
       "                      myct  mmin   mmax  cach  chmin  chmax  prp  erp     cs\n",
       "adviser 32/60          125   256   6000   256     16    128  198  199   8.00\n",
       "amdahl 470v/7           29  8000  32000    32      8     32  269  253  34.48\n",
       "amdahl 470v/7a          29  8000  32000    32      8     32  220  253  34.48\n",
       "amdahl 470v/7b          29  8000  32000    32      8     32  172  253  34.48\n",
       "amdahl 470v/7c          29  8000  16000    32      8     16  132  132  34.48\n",
       "...                    ...   ...    ...   ...    ...    ...  ...  ...    ...\n",
       "sperry 80/8            124  1000   8000     0      1      8   42   37   8.06\n",
       "sperry 90/80-model-3    98  1000   8000    32      2      8   46   50  10.20\n",
       "sratus 32              125  2000   8000     0      2     14   52   41   8.00\n",
       "wang vs-100            480   512   8000    32      0      0   67   47   2.08\n",
       "wang vs-90             480  1000   4000     0      0      0   45   25   2.08\n",
       "\n",
       "[209 rows x 9 columns]"
      ]
     },
     "execution_count": 4,
     "metadata": {},
     "output_type": "execute_result"
    }
   ],
   "source": [
    "df"
   ]
  },
  {
   "cell_type": "markdown",
   "id": "ed4c43e5",
   "metadata": {},
   "source": [
    "3. Use LinearRegression to create a linear model to predict performance (feature ‘prp’).  \n",
    "Use a couple of predictor variables of your own choice.  Create the model using your \n",
    "training set. \n"
   ]
  },
  {
   "cell_type": "code",
   "execution_count": 10,
   "id": "020da5a7",
   "metadata": {},
   "outputs": [
    {
     "data": {
      "text/html": [
       "<style>#sk-container-id-1 {color: black;background-color: white;}#sk-container-id-1 pre{padding: 0;}#sk-container-id-1 div.sk-toggleable {background-color: white;}#sk-container-id-1 label.sk-toggleable__label {cursor: pointer;display: block;width: 100%;margin-bottom: 0;padding: 0.3em;box-sizing: border-box;text-align: center;}#sk-container-id-1 label.sk-toggleable__label-arrow:before {content: \"▸\";float: left;margin-right: 0.25em;color: #696969;}#sk-container-id-1 label.sk-toggleable__label-arrow:hover:before {color: black;}#sk-container-id-1 div.sk-estimator:hover label.sk-toggleable__label-arrow:before {color: black;}#sk-container-id-1 div.sk-toggleable__content {max-height: 0;max-width: 0;overflow: hidden;text-align: left;background-color: #f0f8ff;}#sk-container-id-1 div.sk-toggleable__content pre {margin: 0.2em;color: black;border-radius: 0.25em;background-color: #f0f8ff;}#sk-container-id-1 input.sk-toggleable__control:checked~div.sk-toggleable__content {max-height: 200px;max-width: 100%;overflow: auto;}#sk-container-id-1 input.sk-toggleable__control:checked~label.sk-toggleable__label-arrow:before {content: \"▾\";}#sk-container-id-1 div.sk-estimator input.sk-toggleable__control:checked~label.sk-toggleable__label {background-color: #d4ebff;}#sk-container-id-1 div.sk-label input.sk-toggleable__control:checked~label.sk-toggleable__label {background-color: #d4ebff;}#sk-container-id-1 input.sk-hidden--visually {border: 0;clip: rect(1px 1px 1px 1px);clip: rect(1px, 1px, 1px, 1px);height: 1px;margin: -1px;overflow: hidden;padding: 0;position: absolute;width: 1px;}#sk-container-id-1 div.sk-estimator {font-family: monospace;background-color: #f0f8ff;border: 1px dotted black;border-radius: 0.25em;box-sizing: border-box;margin-bottom: 0.5em;}#sk-container-id-1 div.sk-estimator:hover {background-color: #d4ebff;}#sk-container-id-1 div.sk-parallel-item::after {content: \"\";width: 100%;border-bottom: 1px solid gray;flex-grow: 1;}#sk-container-id-1 div.sk-label:hover label.sk-toggleable__label {background-color: #d4ebff;}#sk-container-id-1 div.sk-serial::before {content: \"\";position: absolute;border-left: 1px solid gray;box-sizing: border-box;top: 0;bottom: 0;left: 50%;z-index: 0;}#sk-container-id-1 div.sk-serial {display: flex;flex-direction: column;align-items: center;background-color: white;padding-right: 0.2em;padding-left: 0.2em;position: relative;}#sk-container-id-1 div.sk-item {position: relative;z-index: 1;}#sk-container-id-1 div.sk-parallel {display: flex;align-items: stretch;justify-content: center;background-color: white;position: relative;}#sk-container-id-1 div.sk-item::before, #sk-container-id-1 div.sk-parallel-item::before {content: \"\";position: absolute;border-left: 1px solid gray;box-sizing: border-box;top: 0;bottom: 0;left: 50%;z-index: -1;}#sk-container-id-1 div.sk-parallel-item {display: flex;flex-direction: column;z-index: 1;position: relative;background-color: white;}#sk-container-id-1 div.sk-parallel-item:first-child::after {align-self: flex-end;width: 50%;}#sk-container-id-1 div.sk-parallel-item:last-child::after {align-self: flex-start;width: 50%;}#sk-container-id-1 div.sk-parallel-item:only-child::after {width: 0;}#sk-container-id-1 div.sk-dashed-wrapped {border: 1px dashed gray;margin: 0 0.4em 0.5em 0.4em;box-sizing: border-box;padding-bottom: 0.4em;background-color: white;}#sk-container-id-1 div.sk-label label {font-family: monospace;font-weight: bold;display: inline-block;line-height: 1.2em;}#sk-container-id-1 div.sk-label-container {text-align: center;}#sk-container-id-1 div.sk-container {/* jupyter's `normalize.less` sets `[hidden] { display: none; }` but bootstrap.min.css set `[hidden] { display: none !important; }` so we also need the `!important` here to be able to override the default hidden behavior on the sphinx rendered scikit-learn.org. See: https://github.com/scikit-learn/scikit-learn/issues/21755 */display: inline-block !important;position: relative;}#sk-container-id-1 div.sk-text-repr-fallback {display: none;}</style><div id=\"sk-container-id-1\" class=\"sk-top-container\"><div class=\"sk-text-repr-fallback\"><pre>LinearRegression()</pre><b>In a Jupyter environment, please rerun this cell to show the HTML representation or trust the notebook. <br />On GitHub, the HTML representation is unable to render, please try loading this page with nbviewer.org.</b></div><div class=\"sk-container\" hidden><div class=\"sk-item\"><div class=\"sk-estimator sk-toggleable\"><input class=\"sk-toggleable__control sk-hidden--visually\" id=\"sk-estimator-id-1\" type=\"checkbox\" checked><label for=\"sk-estimator-id-1\" class=\"sk-toggleable__label sk-toggleable__label-arrow\">LinearRegression</label><div class=\"sk-toggleable__content\"><pre>LinearRegression()</pre></div></div></div></div></div>"
      ],
      "text/plain": [
       "LinearRegression()"
      ]
     },
     "execution_count": 10,
     "metadata": {},
     "output_type": "execute_result"
    }
   ],
   "source": [
    "rgr = LinearRegression()\n",
    "rgr.fit(X,y)"
   ]
  },
  {
   "cell_type": "markdown",
   "id": "87985a1a",
   "metadata": {},
   "source": [
    "4. Compute the MSE of your model on the test data.  Do this manually.\n"
   ]
  },
  {
   "cell_type": "code",
   "execution_count": 11,
   "id": "26382b66",
   "metadata": {},
   "outputs": [
    {
     "data": {
      "text/plain": [
       "2168.698970379743"
      ]
     },
     "execution_count": 11,
     "metadata": {},
     "output_type": "execute_result"
    }
   ],
   "source": [
    "predict = rgr.predict(X_test)\n",
    "MSE = ((predict - y_test)**2).mean()\n",
    "MSE"
   ]
  },
  {
   "cell_type": "markdown",
   "id": "d27c7662",
   "metadata": {},
   "source": [
    "5. Repeat steps 2-4, but this time use new randomly-generated test and training sets.  How \n",
    "much does the RMSE differ?\n"
   ]
  },
  {
   "cell_type": "code",
   "execution_count": 25,
   "id": "ad94b330",
   "metadata": {},
   "outputs": [
    {
     "data": {
      "text/plain": [
       "109976.26389177465"
      ]
     },
     "execution_count": 25,
     "metadata": {},
     "output_type": "execute_result"
    }
   ],
   "source": [
    "X_rand = np.random.randint(low=0, high=1000, size=(209, 4))\n",
    "Y_rand = np.random.randint(low=6, high=1150, size=209)\n",
    "Xr_train, Xr_test, yr_train, yr_test = train_test_split(X_rand, Y_rand, test_size=0.3, random_state=42)\n",
    "rgr.fit(Xr_train, yr_train)\n",
    "r_predict = rgr.predict(Xr_test)\n",
    "MSE = ((r_predict - yr_test)**2).mean()\n",
    "MSE"
   ]
  },
  {
   "cell_type": "markdown",
   "id": "64ffe992",
   "metadata": {},
   "source": [
    "6. If you have time, write code that will do steps 2-4 100 times, each time creating different \n",
    "training/test sets.  Collect the computed RMSE values, and plot them on a histogram.\n"
   ]
  },
  {
   "cell_type": "code",
   "execution_count": 26,
   "id": "e1425317",
   "metadata": {},
   "outputs": [
    {
     "data": {
      "text/plain": [
       "<AxesSubplot: ylabel='Count'>"
      ]
     },
     "execution_count": 26,
     "metadata": {},
     "output_type": "execute_result"
    },
    {
     "data": {
      "image/png": "[encoded data removed]",
      "text/plain": [
       "<Figure size 640x480 with 1 Axes>"
      ]
     },
     "metadata": {},
     "output_type": "display_data"
    }
   ],
   "source": [
    "mse = []\n",
    "for i in range(100):\n",
    "    X_rand = np.random.randint(low=0, high=1000, size=(209, 4))\n",
    "    Y_rand = np.random.randint(low=6, high=1150, size=209)\n",
    "    Xr_train, Xr_test, yr_train, yr_test = train_test_split(X_rand, Y_rand, test_size=0.3, random_state=42)\n",
    "    rgr.fit(Xr_train, yr_train)\n",
    "    r_predict = rgr.predict(Xr_test)\n",
    "    mse.append(((r_predict - yr_test)**2).mean())\n",
    "sns.histplot(pd.Series(mse))"
   ]
  },
  {
   "cell_type": "markdown",
   "id": "983161a2",
   "metadata": {},
   "source": [
    "7. If you still have time, repeat problem 6, but this time use an 80/20 split.\n"
   ]
  },
  {
   "cell_type": "code",
   "execution_count": 27,
   "id": "fd7565da",
   "metadata": {},
   "outputs": [
    {
     "data": {
      "text/plain": [
       "<AxesSubplot: ylabel='Count'>"
      ]
     },
     "execution_count": 27,
     "metadata": {},
     "output_type": "execute_result"
    },
    {
     "data": {
      "image/png": "[encoded data removed]",
      "text/plain": [
       "<Figure size 640x480 with 1 Axes>"
      ]
     },
     "metadata": {},
     "output_type": "display_data"
    }
   ],
   "source": [
    "mse = []\n",
    "for i in range(100):\n",
    "    X_rand = np.random.randint(low=0, high=1000, size=(209, 4))\n",
    "    Y_rand = np.random.randint(low=6, high=1150, size=209)\n",
    "    Xr_train, Xr_test, yr_train, yr_test = train_test_split(X_rand, Y_rand, test_size=0.2, random_state=42)\n",
    "    rgr.fit(Xr_train, yr_train)\n",
    "    r_predict = rgr.predict(Xr_test)\n",
    "    mse.append(((r_predict - yr_test)**2).mean())\n",
    "sns.histplot(pd.Series(mse))"
   ]
  },
  {
   "cell_type": "markdown",
   "id": "c7a2405d",
   "metadata": {},
   "source": [
    "8. If you still have time, compute MSE using cross validation on the entire data set.  Do this \n",
    "many times and plot all the histogram values using a histogram.\n"
   ]
  },
  {
   "cell_type": "code",
   "execution_count": 29,
   "id": "87cb0063",
   "metadata": {},
   "outputs": [
    {
     "data": {
      "text/plain": [
       "<AxesSubplot: ylabel='Count'>"
      ]
     },
     "execution_count": 29,
     "metadata": {},
     "output_type": "execute_result"
    },
    {
     "data": {
      "image/png": "[encoded data removed]",
      "text/plain": [
       "<Figure size 640x480 with 1 Axes>"
      ]
     },
     "metadata": {},
     "output_type": "display_data"
    }
   ],
   "source": [
    "from sklearn.model_selection import cross_val_score\n",
    "score = []\n",
    "for i in range(100):\n",
    "    X_rand = np.random.randint(low=0, high=1000, size=(209, 4))\n",
    "    Y_rand = np.random.randint(low=6, high=1150, size=209)\n",
    "    cv_rgr = LinearRegression()\n",
    "    Xr_train, Xr_test, yr_train, yr_test = train_test_split(X_rand, Y_rand, test_size=0.2, random_state=42)\n",
    "    scores = -cross_val_score(cv_rgr, Xr_train, yr_train,scoring=\"neg_mean_squared_error\", cv=10 )\n",
    "    score.append(scores.mean())\n",
    "sns.histplot(pd.Series(score))"
   ]
  },
  {
   "cell_type": "markdown",
   "id": "eba6de36",
   "metadata": {},
   "source": [
    "9. If you still have time, check out Section 5.1 of 'An Introduction to Statistical Learning'.\n"
   ]
  }
 ],
 "metadata": {
  "kernelspec": {
   "display_name": "Python 3 (ipykernel)",
   "language": "python",
   "name": "python3"
  },
  "language_info": {
   "codemirror_mode": {
    "name": "ipython",
    "version": 3
   },
   "file_extension": ".py",
   "mimetype": "text/x-python",
   "name": "python",
   "nbconvert_exporter": "python",
   "pygments_lexer": "ipython3",
   "version": "3.9.15"
  }
 },
 "nbformat": 4,
 "nbformat_minor": 5
}
