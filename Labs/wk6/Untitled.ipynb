{
 "cells": [
  {
   "cell_type": "markdown",
   "id": "9c6bd293",
   "metadata": {},
   "source": [
    "# Lab: Linear regression, part 1\n",
    "In this lab we will start performing linear regression in Python.\n"
   ]
  },
  {
   "cell_type": "code",
   "execution_count": 2,
   "id": "49bb4c5f",
   "metadata": {},
   "outputs": [
    {
     "ename": "ModuleNotFoundError",
     "evalue": "No module named 'numpy'",
     "output_type": "error",
     "traceback": [
      "\u001b[0;31m---------------------------------------------------------------------------\u001b[0m",
      "\u001b[0;31mModuleNotFoundError\u001b[0m                       Traceback (most recent call last)",
      "Cell \u001b[0;32mIn[2], line 1\u001b[0m\n\u001b[0;32m----> 1\u001b[0m \u001b[38;5;28;01mimport\u001b[39;00m \u001b[38;5;21;01mnumpy\u001b[39;00m \u001b[38;5;28;01mas\u001b[39;00m \u001b[38;5;21;01mnp\u001b[39;00m\n\u001b[1;32m      2\u001b[0m \u001b[38;5;28;01mimport\u001b[39;00m \u001b[38;5;21;01mpandas\u001b[39;00m \u001b[38;5;28;01mas\u001b[39;00m \u001b[38;5;21;01mpd\u001b[39;00m\n",
      "\u001b[0;31mModuleNotFoundError\u001b[0m: No module named 'numpy'"
     ]
    }
   ],
   "source": [
    "import numpy as np\n",
    "import pandas as pd\n"
   ]
  },
  {
   "cell_type": "markdown",
   "id": "89fb9d88",
   "metadata": {},
   "source": [
    "1. Read the CPU performance data from this csv file into a Pandas DataFrame named 'df'. \n",
    "https://raw.githubusercontent.com/grbruns/cst383/master/machine.csv\n",
    "You may want to add the 'clock speed' feature, as shown in the hints section below."
   ]
  },
  {
   "cell_type": "code",
   "execution_count": null,
   "id": "7186ad7f",
   "metadata": {},
   "outputs": [],
   "source": []
  },
  {
   "cell_type": "markdown",
   "id": "665e9b90",
   "metadata": {},
   "source": [
    "2. Look at the information on the following page to learn about what the column names mean.  ‘prp’ \n",
    "is the variable that we will try to estimate with linear regression.\n",
    "https://archive.ics.uci.edu/ml/datasets/Computer+Hardware\n",
    "Note that this data is from way back in 1988 and has little to do with today’s CPUs.\n"
   ]
  },
  {
   "cell_type": "code",
   "execution_count": null,
   "id": "cd88a898",
   "metadata": {},
   "outputs": [],
   "source": []
  },
  {
   "cell_type": "markdown",
   "id": "ce34428d",
   "metadata": {},
   "source": [
    "3. Create a matrix of scatter plots using the Seaborn pairplot function.  Do some features appear to \n",
    "be strongly correlated?\n"
   ]
  },
  {
   "cell_type": "code",
   "execution_count": null,
   "id": "4589f08f",
   "metadata": {},
   "outputs": [],
   "source": []
  },
  {
   "cell_type": "markdown",
   "id": "ec98b45f",
   "metadata": {},
   "source": [
    "4. Pick a feature (like ‘mmin’, ‘mmax’, ‘cach’, etc.) and produce a scatterplot with that feature on the \n",
    "x axis and ‘prp’ on the y axis.  Does prp seem to change linearly with respect to the feature you \n",
    "chose?  Describe the pattern: what is the trend, how focused is the pattern, are there outliers, \n",
    "etc.?\n"
   ]
  },
  {
   "cell_type": "code",
   "execution_count": null,
   "id": "d7121ac6",
   "metadata": {},
   "outputs": [],
   "source": []
  },
  {
   "cell_type": "markdown",
   "id": "179d64bc",
   "metadata": {},
   "source": [
    "5. Fit a linear model to the data using sklearn.linear_model.LinearRegression.  The model should have \n",
    "‘prp’ as its target variable, and the feature you chose as its single predictor variable.  Assign the \n",
    "model to variable ‘fit’.\n",
    "`"
   ]
  },
  {
   "cell_type": "code",
   "execution_count": null,
   "id": "caf64ac6",
   "metadata": {},
   "outputs": [],
   "source": []
  },
  {
   "cell_type": "markdown",
   "id": "c24aff51",
   "metadata": {},
   "source": [
    "6. Plot the predicted relationship on top of your plot of problem 4 above.  Compare your plot to the \n",
    "one you would get with Seaborn's regplot (which will find and plot the regression line for you).\n",
    "  "
   ]
  },
  {
   "cell_type": "code",
   "execution_count": null,
   "id": "eced80c3",
   "metadata": {},
   "outputs": [],
   "source": []
  },
  {
   "cell_type": "markdown",
   "id": "3e4df136",
   "metadata": {},
   "source": [
    "7. Create a scatterplot with the actual 'prp' value on the X axis and the predicted 'prp' value on the Y \n",
    "axis.   If your predictions were great, what would this plot look like?\n"
   ]
  },
  {
   "cell_type": "code",
   "execution_count": null,
   "id": "c40113c8",
   "metadata": {},
   "outputs": [],
   "source": []
  },
  {
   "cell_type": "markdown",
   "id": "7828ab1b",
   "metadata": {},
   "source": [
    "8. If you still have time, try again, using different features as your predictors.  Try multiple predictors.  \n",
    "In each case, plot the actual vs. predicted values, as in the last problem."
   ]
  },
  {
   "cell_type": "code",
   "execution_count": null,
   "id": "790bd9da",
   "metadata": {},
   "outputs": [],
   "source": []
  }
 ],
 "metadata": {
  "kernelspec": {
   "display_name": "Python 3 (ipykernel)",
   "language": "python",
   "name": "python3"
  },
  "language_info": {
   "codemirror_mode": {
    "name": "ipython",
    "version": 3
   },
   "file_extension": ".py",
   "mimetype": "text/x-python",
   "name": "python",
   "nbconvert_exporter": "python",
   "pygments_lexer": "ipython3",
   "version": "3.11.1"
  }
 },
 "nbformat": 4,
 "nbformat_minor": 5
}
