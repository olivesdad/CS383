{
 "cells": [
  {
   "cell_type": "markdown",
   "id": "639c3d83",
   "metadata": {},
   "source": [
    "# Lab: Linear regression, part 3\n",
    "In this lab we will continue to perform linear regression using the CPU data set.\n"
   ]
  },
  {
   "cell_type": "markdown",
   "id": "a9e67e89",
   "metadata": {},
   "source": [
    "1. Read the CPU data:\n"
   ]
  },
  {
   "cell_type": "code",
   "execution_count": 81,
   "id": "bbe28f81",
   "metadata": {},
   "outputs": [],
   "source": [
    "import pandas as pd\n",
    "import seaborn as sns\n",
    "import pandas as pd\n",
    "from sklearn.linear_model import LinearRegression\n",
    "from sklearn.preprocessing import PolynomialFeatures\n",
    "from sklearn.model_selection import train_test_split\n",
    "\n",
    "df = pd.read_csv(\"https://raw.githubusercontent.com/grbruns/cst383/master/machine.csv\")\n",
    "df.index = df['vendor']+' '+df['model']\n",
    "df.drop(['vendor', 'model'], axis=1, inplace=True)\n",
    "df['cs'] = np.round(1e3/df['myct'], 2) # clock speed in MHz \n"
   ]
  },
  {
   "cell_type": "markdown",
   "id": "6fd13ec2",
   "metadata": {},
   "source": [
    "2. From the machine data, create training and test sets, using a 70/30 split.  See the linear \n",
    "regression 2 slides if needed.\n"
   ]
  },
  {
   "cell_type": "code",
   "execution_count": 82,
   "id": "089f4c44",
   "metadata": {},
   "outputs": [
    {
     "data": {
      "text/html": [
       "<style>#sk-container-id-7 {color: black;background-color: white;}#sk-container-id-7 pre{padding: 0;}#sk-container-id-7 div.sk-toggleable {background-color: white;}#sk-container-id-7 label.sk-toggleable__label {cursor: pointer;display: block;width: 100%;margin-bottom: 0;padding: 0.3em;box-sizing: border-box;text-align: center;}#sk-container-id-7 label.sk-toggleable__label-arrow:before {content: \"▸\";float: left;margin-right: 0.25em;color: #696969;}#sk-container-id-7 label.sk-toggleable__label-arrow:hover:before {color: black;}#sk-container-id-7 div.sk-estimator:hover label.sk-toggleable__label-arrow:before {color: black;}#sk-container-id-7 div.sk-toggleable__content {max-height: 0;max-width: 0;overflow: hidden;text-align: left;background-color: #f0f8ff;}#sk-container-id-7 div.sk-toggleable__content pre {margin: 0.2em;color: black;border-radius: 0.25em;background-color: #f0f8ff;}#sk-container-id-7 input.sk-toggleable__control:checked~div.sk-toggleable__content {max-height: 200px;max-width: 100%;overflow: auto;}#sk-container-id-7 input.sk-toggleable__control:checked~label.sk-toggleable__label-arrow:before {content: \"▾\";}#sk-container-id-7 div.sk-estimator input.sk-toggleable__control:checked~label.sk-toggleable__label {background-color: #d4ebff;}#sk-container-id-7 div.sk-label input.sk-toggleable__control:checked~label.sk-toggleable__label {background-color: #d4ebff;}#sk-container-id-7 input.sk-hidden--visually {border: 0;clip: rect(1px 1px 1px 1px);clip: rect(1px, 1px, 1px, 1px);height: 1px;margin: -1px;overflow: hidden;padding: 0;position: absolute;width: 1px;}#sk-container-id-7 div.sk-estimator {font-family: monospace;background-color: #f0f8ff;border: 1px dotted black;border-radius: 0.25em;box-sizing: border-box;margin-bottom: 0.5em;}#sk-container-id-7 div.sk-estimator:hover {background-color: #d4ebff;}#sk-container-id-7 div.sk-parallel-item::after {content: \"\";width: 100%;border-bottom: 1px solid gray;flex-grow: 1;}#sk-container-id-7 div.sk-label:hover label.sk-toggleable__label {background-color: #d4ebff;}#sk-container-id-7 div.sk-serial::before {content: \"\";position: absolute;border-left: 1px solid gray;box-sizing: border-box;top: 0;bottom: 0;left: 50%;z-index: 0;}#sk-container-id-7 div.sk-serial {display: flex;flex-direction: column;align-items: center;background-color: white;padding-right: 0.2em;padding-left: 0.2em;position: relative;}#sk-container-id-7 div.sk-item {position: relative;z-index: 1;}#sk-container-id-7 div.sk-parallel {display: flex;align-items: stretch;justify-content: center;background-color: white;position: relative;}#sk-container-id-7 div.sk-item::before, #sk-container-id-7 div.sk-parallel-item::before {content: \"\";position: absolute;border-left: 1px solid gray;box-sizing: border-box;top: 0;bottom: 0;left: 50%;z-index: -1;}#sk-container-id-7 div.sk-parallel-item {display: flex;flex-direction: column;z-index: 1;position: relative;background-color: white;}#sk-container-id-7 div.sk-parallel-item:first-child::after {align-self: flex-end;width: 50%;}#sk-container-id-7 div.sk-parallel-item:last-child::after {align-self: flex-start;width: 50%;}#sk-container-id-7 div.sk-parallel-item:only-child::after {width: 0;}#sk-container-id-7 div.sk-dashed-wrapped {border: 1px dashed gray;margin: 0 0.4em 0.5em 0.4em;box-sizing: border-box;padding-bottom: 0.4em;background-color: white;}#sk-container-id-7 div.sk-label label {font-family: monospace;font-weight: bold;display: inline-block;line-height: 1.2em;}#sk-container-id-7 div.sk-label-container {text-align: center;}#sk-container-id-7 div.sk-container {/* jupyter's `normalize.less` sets `[hidden] { display: none; }` but bootstrap.min.css set `[hidden] { display: none !important; }` so we also need the `!important` here to be able to override the default hidden behavior on the sphinx rendered scikit-learn.org. See: https://github.com/scikit-learn/scikit-learn/issues/21755 */display: inline-block !important;position: relative;}#sk-container-id-7 div.sk-text-repr-fallback {display: none;}</style><div id=\"sk-container-id-7\" class=\"sk-top-container\"><div class=\"sk-text-repr-fallback\"><pre>LinearRegression()</pre><b>In a Jupyter environment, please rerun this cell to show the HTML representation or trust the notebook. <br />On GitHub, the HTML representation is unable to render, please try loading this page with nbviewer.org.</b></div><div class=\"sk-container\" hidden><div class=\"sk-item\"><div class=\"sk-estimator sk-toggleable\"><input class=\"sk-toggleable__control sk-hidden--visually\" id=\"sk-estimator-id-7\" type=\"checkbox\" checked><label for=\"sk-estimator-id-7\" class=\"sk-toggleable__label sk-toggleable__label-arrow\">LinearRegression</label><div class=\"sk-toggleable__content\"><pre>LinearRegression()</pre></div></div></div></div></div>"
      ],
      "text/plain": [
       "LinearRegression()"
      ]
     },
     "execution_count": 82,
     "metadata": {},
     "output_type": "execute_result"
    }
   ],
   "source": [
    "X = df[['cs', 'erp']]\n",
    "y = df['prp'].values\n",
    "X_train, X_test, y_train, y_test = train_test_split(X,y, train_size=0.3, random_state=42)\n",
    "rgr = LinearRegression()\n",
    "rgr.fit(X_train, y_train)"
   ]
  },
  {
   "cell_type": "code",
   "execution_count": 83,
   "id": "ad7e013b",
   "metadata": {},
   "outputs": [
    {
     "data": {
      "text/plain": [
       "0.9382116122496789"
      ]
     },
     "execution_count": 83,
     "metadata": {},
     "output_type": "execute_result"
    }
   ],
   "source": [
    "rgr.score(X_train, y_train)"
   ]
  },
  {
   "cell_type": "markdown",
   "id": "1ecd8182",
   "metadata": {},
   "source": [
    "3. This lab is open-ended.  I want you to experiment with building linear models using \n",
    "interactions and nonlinear transformations, as discussed in class.  The goal is still to \n",
    "predict performance (feature ‘prp’).  Start simple.\n"
   ]
  },
  {
   "cell_type": "markdown",
   "id": "6aeabf33",
   "metadata": {},
   "source": [
    "4. Predict prp using your test set, and write your own code to compute the RMSE. \n"
   ]
  },
  {
   "cell_type": "code",
   "execution_count": 84,
   "id": "254f87c6",
   "metadata": {},
   "outputs": [
    {
     "name": "stdout",
     "output_type": "stream",
     "text": [
      "RMSE: 45.39486373729523\n"
     ]
    }
   ],
   "source": [
    "predict = rgr.predict(X_test)\n",
    "RMSE = np.sqrt(((predict - y_test)**2).mean())\n",
    "print(\"RMSE: {}\".format(RMSE))"
   ]
  },
  {
   "cell_type": "markdown",
   "id": "2bf499e3",
   "metadata": {},
   "source": [
    "5. For each experiment, I want you to pick some features, transform them in some way (or not at \n",
    "all), and then build a linear model using the training data.  Write down the RMSE you get on \n",
    "the test data.  Note: if you transform ‘prp’, you will need to account for that when you compute \n",
    "RMSE!\n"
   ]
  },
  {
   "cell_type": "code",
   "execution_count": 85,
   "id": "d9150e1a",
   "metadata": {},
   "outputs": [
    {
     "name": "stdout",
     "output_type": "stream",
     "text": [
      "r-square = 0.9529654333015359\n",
      "RMSE: 85.15398893850228\n"
     ]
    }
   ],
   "source": [
    "pf = PolynomialFeatures(degree=2, include_bias=False)\n",
    "pf.fit(X)\n",
    "X_transformed = pf.transform(X)\n",
    "X_train, X_test, y_train, y_test = train_test_split(X_transformed,y, train_size=0.3, random_state=42)\n",
    "rgr.fit(X_train, y_train)\n",
    "predict = rgr.predict(X_test)\n",
    "print(\"r-square = {}\".format(rgr.score(X_train, y_train)))\n",
    "RMSE = np.sqrt(((predict - y_test)**2).mean())\n",
    "print(\"RMSE: {}\".format(RMSE))"
   ]
  },
  {
   "cell_type": "markdown",
   "id": "ddc6a44d",
   "metadata": {},
   "source": [
    "Adding a second order polynomial transformation improved r-squared but RMSE says it's performning worse. I think that means we are overfitting\n",
    "\n",
    "---\n",
    "Try again with non linear predictors"
   ]
  },
  {
   "cell_type": "code",
   "execution_count": 86,
   "id": "23411e82",
   "metadata": {},
   "outputs": [
    {
     "name": "stdout",
     "output_type": "stream",
     "text": [
      "r-square = 0.5443441865283787\n",
      "RMSE: 140.75281647558094\n"
     ]
    }
   ],
   "source": [
    "X = (df['cs'].values).reshape(-1,1)\n",
    "y = df['prp'].values\n",
    "pf.fit(X)\n",
    "X_transformed = pf.transform(X)\n",
    "X_train, X_test, y_train, y_test = train_test_split(X_transformed,y, train_size=0.3, random_state=42)\n",
    "rgr.fit(X_train, y_train)\n",
    "predict = rgr.predict(X_test)\n",
    "print(\"r-square = {}\".format(rgr.score(X_train, y_train)))\n",
    "RMSE = np.sqrt(((predict - y_test)**2).mean())\n",
    "print(\"RMSE: {}\".format(RMSE))"
   ]
  },
  {
   "cell_type": "markdown",
   "id": "da996645",
   "metadata": {},
   "source": [
    "---\n",
    "try Try to log the data first"
   ]
  },
  {
   "cell_type": "code",
   "execution_count": 87,
   "id": "d474e9cf",
   "metadata": {},
   "outputs": [
    {
     "name": "stdout",
     "output_type": "stream",
     "text": [
      "r-square = 0.39335709633135596\n",
      "RMSE: 152.18426628647703\n"
     ]
    }
   ],
   "source": [
    "X = (df['cs'].values).reshape(-1,1)\n",
    "y = df['prp'].values\n",
    "X_log = np.log(X)\n",
    "\n",
    "X_train, X_test, y_train, y_test = train_test_split(X_log,y, train_size=0.3, random_state=42)\n",
    "rgr.fit(X_train, y_train)\n",
    "predict = rgr.predict(X_test)\n",
    "print(\"r-square = {}\".format(rgr.score(X_train, y_train)))\n",
    "RMSE = np.sqrt(((predict - y_test)**2).mean())\n",
    "print(\"RMSE: {}\".format(RMSE))"
   ]
  },
  {
   "cell_type": "markdown",
   "id": "25fe5320",
   "metadata": {},
   "source": [
    "6. See which features and transformations give you the best RMSE scores."
   ]
  }
 ],
 "metadata": {
  "kernelspec": {
   "display_name": "Python 3 (ipykernel)",
   "language": "python",
   "name": "python3"
  },
  "language_info": {
   "codemirror_mode": {
    "name": "ipython",
    "version": 3
   },
   "file_extension": ".py",
   "mimetype": "text/x-python",
   "name": "python",
   "nbconvert_exporter": "python",
   "pygments_lexer": "ipython3",
   "version": "3.9.15"
  }
 },
 "nbformat": 4,
 "nbformat_minor": 5
}
