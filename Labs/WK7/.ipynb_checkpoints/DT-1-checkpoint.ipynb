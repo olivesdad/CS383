{
 "cells": [
  {
   "cell_type": "markdown",
   "id": "bf306e23",
   "metadata": {},
   "source": [
    "# Lab: Classification Trees\n",
    "\n",
    "The purpose of this lab is to start getting some practice using Scikit-Learn to build classification \n",
    "trees.  \n",
    "\n",
    "---\n",
    "Instructions:\n",
    "1. Explain why decision trees are non-parametric models."
   ]
  },
  {
   "cell_type": "markdown",
   "id": "f6ef3dc7",
   "metadata": {},
   "source": [
    "\n",
    "2. Create a Python file.  Use this code to read and preprocess the data.  (see number 7 for \n",
    "how to install graphviz)\n",
    "\n"
   ]
  },
  {
   "cell_type": "code",
   "execution_count": 2,
   "id": "c255a025",
   "metadata": {},
   "outputs": [
    {
     "ename": "ModuleNotFoundError",
     "evalue": "No module named 'graphviz'",
     "output_type": "error",
     "traceback": [
      "\u001b[0;31m---------------------------------------------------------------------------\u001b[0m",
      "\u001b[0;31mModuleNotFoundError\u001b[0m                       Traceback (most recent call last)",
      "Cell \u001b[0;32mIn[2], line 7\u001b[0m\n\u001b[1;32m      5\u001b[0m \u001b[38;5;28;01mfrom\u001b[39;00m \u001b[38;5;21;01msklearn\u001b[39;00m\u001b[38;5;21;01m.\u001b[39;00m\u001b[38;5;21;01mtree\u001b[39;00m \u001b[38;5;28;01mimport\u001b[39;00m DecisionTreeClassifier, export_graphviz\n\u001b[1;32m      6\u001b[0m \u001b[38;5;28;01mfrom\u001b[39;00m \u001b[38;5;21;01msklearn\u001b[39;00m\u001b[38;5;21;01m.\u001b[39;00m\u001b[38;5;21;01mmodel_selection\u001b[39;00m \u001b[38;5;28;01mimport\u001b[39;00m train_test_split\n\u001b[0;32m----> 7\u001b[0m \u001b[38;5;28;01mimport\u001b[39;00m \u001b[38;5;21;01mgraphviz\u001b[39;00m\n\u001b[1;32m      8\u001b[0m df \u001b[38;5;241m=\u001b[39m pd\u001b[38;5;241m.\u001b[39mread_csv(\u001b[38;5;124m'\u001b[39m\u001b[38;5;124mhttps://raw.githubusercontent.com/grbruns/cst383/master/College.csv\u001b[39m\u001b[38;5;124m'\u001b[39m, \n\u001b[1;32m      9\u001b[0m index_col\u001b[38;5;241m=\u001b[39m\u001b[38;5;241m0\u001b[39m)\n",
      "\u001b[0;31mModuleNotFoundError\u001b[0m: No module named 'graphviz'"
     ]
    }
   ],
   "source": [
    "import numpy as np\n",
    "import pandas as pd\n",
    "import matplotlib.pyplot as plt\n",
    "import seaborn as sns\n",
    "from sklearn.tree import DecisionTreeClassifier, export_graphviz\n",
    "from sklearn.model_selection import train_test_split\n",
    "import graphviz\n",
    "df = pd.read_csv('https://raw.githubusercontent.com/grbruns/cst383/master/College.csv', \n",
    "index_col=0)"
   ]
  },
  {
   "cell_type": "markdown",
   "id": "123b0906",
   "metadata": {},
   "source": [
    "3. Convert the 'Private' column to an numeric column with values 0 and 1 (1 for private \n",
    "colleges).\n"
   ]
  },
  {
   "cell_type": "markdown",
   "id": "aaaf6ed8",
   "metadata": {},
   "source": [
    "4. Do a little exploration of the data to remember what it’s like.  E.g., use df.info(), \n",
    "df.describe().\n"
   ]
  },
  {
   "cell_type": "markdown",
   "id": "49213211",
   "metadata": {},
   "source": [
    "5. We will try to predict whether a college is public or private.  Select a few predictors, \n",
    "create NumPy arrays X and y, and then do a training/test split.  Try hard to remember \n",
    "how to do this from memory.  If you can't, refer to the hints.\n"
   ]
  },
  {
   "cell_type": "markdown",
   "id": "95addfd6",
   "metadata": {},
   "source": [
    "6. Train a tree classifier using Scikit-Learn's DecisionTreeClassifier.  Use the training data \n",
    "you created in the previous step.\n"
   ]
  },
  {
   "cell_type": "markdown",
   "id": "8a570147",
   "metadata": {},
   "source": [
    "7. Install graphviz by entering conda install python-graphviz at the Anaconda prompt.  Then \n",
    "plot your tree using graphviz.  Try playing with some of the options of export_graphviz(). \n"
   ]
  },
  {
   "cell_type": "markdown",
   "id": "36a1e3a7",
   "metadata": {},
   "source": [
    "8. Use your classification tree to predict whether examples in your test data are public or \n",
    "private.  Compute the confusion matrix and the accuracy of your predictions..\n"
   ]
  },
  {
   "cell_type": "markdown",
   "id": "57bfedf8",
   "metadata": {},
   "source": [
    "9. If you still have time, do the following:\n",
    "● try building more classification trees, using different sets of input features\n",
    "● look at, and play with, the hyperparameters available in DecisionTreeClassifier, \n",
    "especially max_depth.\n",
    "● see how much the classification tree that you produce depends on your particular \n",
    "training set"
   ]
  }
 ],
 "metadata": {
  "kernelspec": {
   "display_name": "Python 3 (ipykernel)",
   "language": "python",
   "name": "python3"
  },
  "language_info": {
   "codemirror_mode": {
    "name": "ipython",
    "version": 3
   },
   "file_extension": ".py",
   "mimetype": "text/x-python",
   "name": "python",
   "nbconvert_exporter": "python",
   "pygments_lexer": "ipython3",
   "version": "3.9.15"
  }
 },
 "nbformat": 4,
 "nbformat_minor": 5
}
